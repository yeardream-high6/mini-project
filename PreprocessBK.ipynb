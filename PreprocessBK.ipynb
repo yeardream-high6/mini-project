{
 "cells": [
  {
   "cell_type": "code",
   "execution_count": 1,
   "metadata": {},
   "outputs": [],
   "source": [
    "import numpy as np\n",
    "import pandas as pd\n",
    "import matplotlib.pyplot as plt\n",
    "import seaborn as sns"
   ]
  },
  {
   "cell_type": "code",
   "execution_count": 2,
   "metadata": {},
   "outputs": [],
   "source": [
    "input_path = '파이널프로젝트_RAW_210329_210926.xlsx'\n",
    "output_path = '파이널프로젝트_전처리후.xlsx'"
   ]
  },
  {
   "cell_type": "code",
   "execution_count": 70,
   "metadata": {},
   "outputs": [],
   "source": [
    "df = pd.read_excel(input_path)"
   ]
  },
  {
   "cell_type": "markdown",
   "metadata": {},
   "source": [
    "##### 실제 판매가 아닌 데이터 삭제(테스트, 검수용 등)"
   ]
  },
  {
   "cell_type": "markdown",
   "metadata": {},
   "source": [
    "1. coupon_title에 '테스트' 포함하면서 transaction_amount = 0인 건을 가진 customer_id의 모든 거래는 테스트 데이터라서 삭제합니다."
   ]
  },
  {
   "cell_type": "code",
   "execution_count": 88,
   "metadata": {},
   "outputs": [],
   "source": [
    "cond1 = df['coupon_title'].str.contains('테스트', case=False, regex=False).fillna(False) \n",
    "cond2 = df['transaction_amount'] == 0\n",
    "cond = df['customer_id'].isin(df[cond1 & cond2]['customer_id'])\n",
    "df = df.drop(df[cond].index)\n"
   ]
  },
  {
   "cell_type": "markdown",
   "metadata": {},
   "source": [
    "2. coupon_title에 'CRM'을 포함하는 거래 건을 가진 customer_id의 모든 거래는 검수용으로 삭제합니다."
   ]
  },
  {
   "cell_type": "code",
   "execution_count": null,
   "metadata": {},
   "outputs": [],
   "source": [
    "cond1 = df['coupon_title'].str.contains('CRM', case=False, regex=False).fillna(False) \n",
    "cond = df['customer_id'].isin(df[cond1]['customer_id'])\n",
    "df = df.drop(df[cond].index)\n"
   ]
  },
  {
   "cell_type": "markdown",
   "metadata": {},
   "source": [
    "3. coupon_title에 '검수'를 포함하는 거래 건을 가진 customer_id의 모든 거래는 검수용으로 삭제합니다."
   ]
  },
  {
   "cell_type": "code",
   "execution_count": 102,
   "metadata": {},
   "outputs": [],
   "source": [
    "cond1 = df['coupon_title'].str.contains('검수', case=False, regex=False).fillna(False) \n",
    "cond = df['customer_id'].isin(df[cond1]['customer_id'])\n",
    "df = df.drop(df[cond].index)"
   ]
  },
  {
   "cell_type": "markdown",
   "metadata": {},
   "source": [
    "4. course_title이 '(test)'로 시작하는 거래 건을 가진 customer_id의 모든 거래는 테스트용으로 삭제합니다."
   ]
  },
  {
   "cell_type": "code",
   "execution_count": 113,
   "metadata": {},
   "outputs": [],
   "source": [
    "cond1 = df['course_title'].str.startswith('(test)').fillna(False)\n",
    "cond = df['customer_id'].isin(df[cond1]['customer_id'])\n",
    "df = df.drop(df[cond].index)\n"
   ]
  },
  {
   "cell_type": "markdown",
   "metadata": {},
   "source": [
    "5. coupon_title에 'TEST'로 시작하는 거래 건을 가진 customer_id의 모든 거래는 테스트 용으로 삭제합니다."
   ]
  },
  {
   "cell_type": "code",
   "execution_count": null,
   "metadata": {},
   "outputs": [],
   "source": [
    "cond1 = df['coupon_title'].str.startswith('TEST').fillna(False)\n",
    "cond = df['customer_id'].isin(df[cond1]['customer_id'])\n",
    "df = df.drop(df[cond].index)"
   ]
  },
  {
   "cell_type": "markdown",
   "metadata": {},
   "source": [
    "6. coupon_title에 '샘플', 'ssd'인 거래 건을 가진 customer_id의 모든 거래는 테스트 용으로 삭제합니다."
   ]
  },
  {
   "cell_type": "code",
   "execution_count": 134,
   "metadata": {},
   "outputs": [],
   "source": [
    "cond1 = df['coupon_title'].str.startswith('샘플').fillna(False)\n",
    "cond2 = df['coupon_title'].str.startswith('ssd').fillna(False)\n",
    "cond = df['customer_id'].isin(df[cond1 | cond2]['customer_id'])\n",
    "df = df.drop(df[cond].index)"
   ]
  },
  {
   "cell_type": "markdown",
   "metadata": {},
   "source": [
    "7. coupon_title에 '참고용', '점검용'인 거래 건을 가진 customer_id의 모든 거래 중 transaction_amount = 0인 모든 거래는 실제 판매 건이 아니므로로 삭제합니다."
   ]
  },
  {
   "cell_type": "code",
   "execution_count": null,
   "metadata": {},
   "outputs": [],
   "source": [
    "cond1 = df['coupon_title'].str.contains('참고용', case=False, regex=False).fillna(False) \n",
    "cond2 = df['coupon_title'].str.contains('점검용', case=False, regex=False).fillna(False) \n",
    "cond3 = df['customer_id'].isin(df[cond1 | cond2]['customer_id'])\n",
    "cond4 = df['transaction_amount'] == 0\n",
    "df = df.drop(df[cond3][cond4].index)"
   ]
  },
  {
   "cell_type": "markdown",
   "metadata": {},
   "source": [
    "8. coupon_title에 아래 조건들은 실제 판매 건이 아니므로로 삭제합니다.\n",
    "\n",
    "- coupon_title에 '강사님'을 포함\n",
    "- coupon_title에 '직원'을 포함\n",
    "- coupon_title이 '업무용'을 포함하는 건을 가지는 customer_id의 모든 거래\n",
    "- coupon_title에 '외주'를 포함\n",
    "- coupon_title에 '강의 제공용'을 포함"
   ]
  },
  {
   "cell_type": "code",
   "execution_count": 217,
   "metadata": {},
   "outputs": [],
   "source": [
    "cond1 = df['coupon_title'].str.contains('강사님', case=False, regex=False).fillna(False) \n",
    "cond2 = df['transaction_amount'] == 0\n",
    "cond = df['id'].isin(df[cond1 & cond2]['id'])\n",
    "df = df.drop(df[cond].index)"
   ]
  },
  {
   "cell_type": "code",
   "execution_count": 221,
   "metadata": {},
   "outputs": [],
   "source": [
    "cond1 = df['coupon_title'].str.contains('직원', case=False, regex=False).fillna(False) \n",
    "cond = df['id'].isin(df[cond1]['id'])\n",
    "df = df.drop(df[cond].index)"
   ]
  },
  {
   "cell_type": "code",
   "execution_count": 229,
   "metadata": {},
   "outputs": [],
   "source": [
    "cond1 = df['coupon_title'].str.startswith('업무용').fillna(False)\n",
    "cond = df['customer_id'].isin(df[cond1]['customer_id'])\n",
    "df = df.drop(df[cond].index)"
   ]
  },
  {
   "cell_type": "code",
   "execution_count": 246,
   "metadata": {},
   "outputs": [],
   "source": [
    "cond1 = df['coupon_title'].str.contains('외주', case=False, regex=False).fillna(False) \n",
    "cond2 = df['coupon_title'].str.contains('강의 제공용', case=False, regex=False).fillna(False) \n",
    "cond = df['id'].isin(df[cond1 | cond2]['id'])\n",
    "df = df.drop(df[cond].index)"
   ]
  },
  {
   "cell_type": "markdown",
   "metadata": {},
   "source": [
    "10. course_title가 null인 16건을 삭제합니다."
   ]
  },
  {
   "cell_type": "code",
   "execution_count": null,
   "metadata": {},
   "outputs": [],
   "source": [
    "cond = df['course_title'].isna()\n",
    "df = df.drop(df[cond].index)"
   ]
  },
  {
   "cell_type": "markdown",
   "metadata": {},
   "source": [
    "11. format이 '콜로소'인 건을 삭제합니다."
   ]
  },
  {
   "cell_type": "code",
   "execution_count": 243,
   "metadata": {},
   "outputs": [],
   "source": [
    "cond = df['format'].str.startswith('콜로소').fillna(False)\n",
    "df = df.drop(df[cond].index)"
   ]
  },
  {
   "cell_type": "markdown",
   "metadata": {},
   "source": []
  },
  {
   "cell_type": "code",
   "execution_count": null,
   "metadata": {},
   "outputs": [],
   "source": []
  }
 ],
 "metadata": {
  "interpreter": {
   "hash": "ad2bdc8ecc057115af97d19610ffacc2b4e99fae6737bb82f5d7fb13d2f2c186"
  },
  "kernelspec": {
   "display_name": "Python 3.9.7 ('base')",
   "language": "python",
   "name": "python3"
  },
  "language_info": {
   "codemirror_mode": {
    "name": "ipython",
    "version": 3
   },
   "file_extension": ".py",
   "mimetype": "text/x-python",
   "name": "python",
   "nbconvert_exporter": "python",
   "pygments_lexer": "ipython3",
   "version": "3.9.7"
  },
  "orig_nbformat": 4
 },
 "nbformat": 4,
 "nbformat_minor": 2
}
