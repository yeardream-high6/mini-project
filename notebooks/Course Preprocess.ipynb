{
 "cells": [
  {
   "cell_type": "code",
   "execution_count": null,
   "id": "4e218f5f-8e4d-4c18-91c6-6de2e8c84ad7",
   "metadata": {},
   "outputs": [],
   "source": [
    "import numpy as np\n",
    "import pandas as pd\n",
    "import matplotlib.pyplot as plt\n",
    "import seaborn as sns\n",
    "import matplotlib as mpl\n",
    "pd.set_option('display.max_columns', 50)\n",
    "plt.rcParams['font.family']='NanumBarunGothic'\n",
    "plt.rcParams['axes.unicode_minus']=False\n",
    "plt.rcParams['savefig.facecolor']='white'"
   ]
  },
  {
   "cell_type": "code",
   "execution_count": null,
   "id": "2b6d815f-93bd-462e-b848-b202df10ed12",
   "metadata": {},
   "outputs": [],
   "source": [
    "data = pd.read_excel(r'../../data/파이널프로젝트_RAW_210329_210926.xlsx')"
   ]
  },
  {
   "cell_type": "code",
   "execution_count": null,
   "id": "2ead6eb3-7d5a-43ec-a4e2-997b4573ee48",
   "metadata": {},
   "outputs": [],
   "source": [
    "# tax_free_amout 드롭합니다.\n",
    "data = data.drop(columns=['tax_free_amount'], errors='ignore')"
   ]
  },
  {
   "cell_type": "markdown",
   "id": "ba708feb-3186-4c12-bd87-f36175887882",
   "metadata": {},
   "source": [
    "# 강의 데이터 확인"
   ]
  },
  {
   "cell_type": "markdown",
   "id": "be449a3d-11af-4e46-8775-badc20b3635d",
   "metadata": {},
   "source": [
    "## course_title 는 1641 종류, NaN 16건은 무시해도 된다\n",
    "결론: 총 16건, 모두 `PAYMENT DELETED` 나 `TRANSACTION` 이다. 무시."
   ]
  },
  {
   "cell_type": "code",
   "execution_count": null,
   "id": "7758394d-724f-4866-98ab-20d9a922eb9c",
   "metadata": {},
   "outputs": [],
   "source": [
    "# 강의 제목 기준 1641 강의\n",
    "data.course_title.nunique()"
   ]
  },
  {
   "cell_type": "code",
   "execution_count": null,
   "id": "c18ceae8-57ff-4620-ac52-c6c8d9088b04",
   "metadata": {},
   "outputs": [],
   "source": [
    "# NaN은 16건이다.\n",
    "data.course_title.isna().sum()"
   ]
  },
  {
   "cell_type": "code",
   "execution_count": null,
   "id": "5c6453d6-540b-4e1c-aa77-a303c95c2947",
   "metadata": {},
   "outputs": [],
   "source": [
    "# NaN건 모두 조회. 모두 PAYMENT DELETED 나 TRANSACTION 이다.\n",
    "data[data.course_title.isna()]"
   ]
  },
  {
   "cell_type": "markdown",
   "id": "6f1c5ebb-8a0f-42c5-ab26-41d8696c9df4",
   "metadata": {},
   "source": [
    "## 전처리 하기 전 카테고리/서브카테고리 별 강의/고객/데이터 수\n",
    "- 참고: 2022년 5월 기준 현재 홈페이지에 나타난 카테고리\n",
    "  `['프로그래밍', '데이터사이언스', '디자인', '영상/3D', '부동산/금융', '마케팅', '업무 생산성', '투자/재테크', '부업/창업', '숏북']`\n",
    "- 서브카테고리는 홈페이지와 일치한다."
   ]
  },
  {
   "cell_type": "code",
   "execution_count": null,
   "id": "b584cefe-91ba-423f-8516-e30691fc76d2",
   "metadata": {},
   "outputs": [],
   "source": [
    "# {'course_title':'nunique', 'customer_id':'nunique', 'id': 'nunique', 'transaction_amount': 'sum'}\n",
    "with pd.option_context('display.max_rows', None):\n",
    "    display(\n",
    "        data.groupby('category_title',dropna=False)\n",
    "        .agg({'course_title':'nunique', 'customer_id':'nunique', 'id': 'nunique', 'transaction_amount': 'sum'})\n",
    "        .sort_values('id',ascending=False).T\n",
    "        .rename({'course_title':'강의 수', 'customer_id':'고객 수', 'id': '데이터 수', 'transaction_amount': 'transaction 합'})\n",
    "    )\n",
    "    \n",
    "    display(\n",
    "        data.groupby(['category_title','subcategory_title'],dropna=False)\n",
    "        .agg({'course_title':'nunique', 'customer_id':'nunique', 'id': 'nunique', 'transaction_amount': 'sum'})\n",
    "        .reset_index(level=[0,1]).sort_values(['category_title','id'],ascending=False).set_index(['category_title', 'subcategory_title'])\n",
    "        .rename(columns={'course_title':'강의 수', 'customer_id':'고객 수', 'id': '데이터 수', 'transaction_amount': 'transaction 합'})\n",
    "    )"
   ]
  },
  {
   "cell_type": "markdown",
   "id": "49455e63-19cd-4d46-a54c-561a1237aca6",
   "metadata": {},
   "source": [
    "## subcategory 일관 되지 않은 1건 채워넣기"
   ]
  },
  {
   "cell_type": "code",
   "execution_count": null,
   "id": "2468cc26-e198-49b4-8c07-baf09ac9a6c3",
   "metadata": {},
   "outputs": [],
   "source": [
    "# 강의 중 1건은 subcategory가 섞여있음\n",
    "print(data.groupby('course_title').subcategory_title.nunique(dropna=False).value_counts())"
   ]
  },
  {
   "cell_type": "code",
   "execution_count": null,
   "id": "acf8ad67-2430-4030-94f0-a8daafd8845e",
   "metadata": {},
   "outputs": [],
   "source": [
    "# 같은 course_title에 subcategory_title이 섞여있는 강의 모두 출력 (1개 강의)\n",
    "s = data.groupby('course_title').subcategory_title.nunique(dropna=False)\n",
    "for course_title in s[s != 1].keys()[:100]:\n",
    "    print(course_title, data[data.course_title == course_title].subcategory_title.unique())"
   ]
  },
  {
   "cell_type": "code",
   "execution_count": null,
   "id": "00a5392b-b962-46a0-aa39-5c8734e94861",
   "metadata": {},
   "outputs": [],
   "source": [
    "# 해당 강의 데이터 총 2건\n",
    "data[data.course_title == '(B2B) K-Digital Training 핀테크 서비스 프론트엔드 개발 과정 1기']"
   ]
  },
  {
   "cell_type": "code",
   "execution_count": null,
   "id": "07345286-e194-466f-b720-98b98b33c227",
   "metadata": {},
   "outputs": [],
   "source": [
    "# 76521번 데이터에 subcategory_title만 추가하면\n",
    "data.loc[data.course_title == '(B2B) K-Digital Training 핀테크 서비스 프론트엔드 개발 과정 1기', 'subcategory_title'] = '프론트엔드 개발'\n",
    "\n",
    "# course_title이 subcategory_title를 결정하게 된다.\n",
    "print(\"course_title -> subcategory_title:\", (data.groupby('course_title').subcategory_title.nunique(dropna=False) == 1).all())"
   ]
  },
  {
   "cell_type": "code",
   "execution_count": null,
   "id": "b2f0ffa4-4f14-41de-ad33-962a80bef151",
   "metadata": {},
   "outputs": [],
   "source": [
    "# 잘 적용 되었는지 확인\n",
    "data[data.course_title == '(B2B) K-Digital Training 핀테크 서비스 프론트엔드 개발 과정 1기']"
   ]
  },
  {
   "cell_type": "markdown",
   "id": "545a3889-6be3-4705-b3fa-8e0868a20c4d",
   "metadata": {},
   "source": [
    "## category_title 결측치 확인"
   ]
  },
  {
   "cell_type": "code",
   "execution_count": null,
   "id": "3f017e5a-5e2e-492b-834b-b82c5555944c",
   "metadata": {},
   "outputs": [],
   "source": [
    "data[data.category_title.isna()].course_title.value_counts(dropna=False)"
   ]
  },
  {
   "cell_type": "markdown",
   "id": "55263bf7-a1c2-429b-a2c5-f97dcc3ae7d9",
   "metadata": {},
   "source": [
    "## category_title에 일관되지 않은 데이터 확인"
   ]
  },
  {
   "cell_type": "code",
   "execution_count": null,
   "id": "0288f5e4-0c41-4edd-88d3-470e7345ea87",
   "metadata": {},
   "outputs": [],
   "source": [
    "# 같은 course_title에 category_title이 다른 경우\n",
    "s = data.groupby('course_title').category_title.nunique(dropna=False)\n",
    "for course_title in s[s != 1].keys()[:100]:\n",
    "    print(course_title, data[data.course_title == course_title].category_title.unique())"
   ]
  },
  {
   "cell_type": "code",
   "execution_count": null,
   "id": "6d022edf-6efd-483c-91d5-a90415313d2e",
   "metadata": {},
   "outputs": [],
   "source": [
    "# 해당 강좌 카테고리-시간 분포 확인\n",
    "# 비중이 매우 적고 특정 시점에 몰려있으므로 단순 실수이거나 바로 변경한 것이라고 생각된다.\n",
    "\n",
    "s = data.groupby('course_title').category_title.nunique(dropna=False)\n",
    "for course_title in s[s != 1].keys()[:100]:\n",
    "    plt.figure(figsize=(15,1))\n",
    "    plt.title(course_title)\n",
    "    sns.histplot(data[data.course_title == course_title], x='completed_at', hue='category_title',\n",
    "                 binwidth=1, multiple='stack')\n",
    "    plt.xlim(pd.to_datetime(['2021-03-27', '2021-09-27']))\n",
    "    plt.show()"
   ]
  },
  {
   "cell_type": "markdown",
   "id": "1aa8fb87-0779-481f-94f5-dc82adf5dc83",
   "metadata": {},
   "source": [
    "## `데이터사이언스` 와 `데이터 사이언스` 합치기"
   ]
  },
  {
   "cell_type": "code",
   "execution_count": null,
   "id": "52e439eb-3c4e-4ce3-a136-e1f8c0b6c839",
   "metadata": {},
   "outputs": [],
   "source": [
    "# 데이터 사이언스는 위의 두 건 뿐이다.\n",
    "for course_title in data[data.category_title == '데이터 사이언스'].course_title.unique():\n",
    "    print(course_title)"
   ]
  },
  {
   "cell_type": "code",
   "execution_count": null,
   "id": "d6b17738-4a04-4f75-97e8-cb9f1252214f",
   "metadata": {},
   "outputs": [],
   "source": [
    "# TODO"
   ]
  },
  {
   "cell_type": "markdown",
   "id": "75142ef6-ad79-43df-a7a7-ecb66a5e56f0",
   "metadata": {},
   "source": [
    "## `업무 생산성`과 `비즈니스`?"
   ]
  },
  {
   "cell_type": "code",
   "execution_count": null,
   "id": "349d56f9-3189-4dc9-b4b5-b04037e98201",
   "metadata": {},
   "outputs": [],
   "source": [
    "# `업무 생산성`와 `비즈니스`에 해당되는 강의를 확인한다.\n",
    "# 내용상 비슷해 보이므로 합쳐도 될 것 같다.\n",
    "\n",
    "for course_title in data[data.category_title == '비즈니스'].course_title.unique():\n",
    "    print(course_title)\n",
    "print()\n",
    "for course_title in data[data.category_title == '업무 생산성'].course_title.unique():\n",
    "    print(course_title)"
   ]
  },
  {
   "cell_type": "code",
   "execution_count": null,
   "id": "7a309b03-60ab-4c0c-8689-cb059167527a",
   "metadata": {},
   "outputs": [],
   "source": [
    "# `비즈니스`에 해당하는 추가 6건을 확인한다.\n",
    "for course_title in data[data.category_title == '비즈니스'].course_title.unique()[3:]:\n",
    "    plt.figure(figsize=(15,1))\n",
    "    result = data[data.course_title == course_title]\n",
    "    plt.title(f\"{course_title} ({len(result)} 건)\")\n",
    "    sns.histplot(result, x='completed_at', hue='category_title',\n",
    "                 binwidth=1, binrange=mpl.dates.date2num(pd.to_datetime(['2021-03-27', '2021-09-27'])), multiple='stack')\n",
    "    plt.xlim(pd.to_datetime(['2021-03-27', '2021-09-27']))\n",
    "    plt.show()"
   ]
  },
  {
   "cell_type": "code",
   "execution_count": null,
   "id": "c3818e89-5fca-423d-b9d3-1e9707c24059",
   "metadata": {},
   "outputs": [],
   "source": [
    "# 업무생산성, 비즈니스 비중 차이\n",
    "# ['지식콘텐츠', '비즈니스', '파이낸스', 'NaN', '데이터 사이언스', '관리', '일러스트']\n",
    "\n",
    "plt.figure(figsize=(20,10))\n",
    "target = data[data.category_title.isin(['업무 생산성', '비즈니스'])]\n",
    "sns.histplot(target, x='completed_at', hue='category_title',\n",
    "             binwidth=1,\n",
    "             binrange=mpl.dates.date2num(pd.to_datetime(['2021-03-27', '2021-09-27'])),\n",
    "             multiple='stack',\n",
    "             #element = 'step',\n",
    "             #fill = False\n",
    "            )\n",
    "plt.xlim(pd.to_datetime(['2021-03-27', '2021-09-27']))\n",
    "plt.show()"
   ]
  },
  {
   "cell_type": "markdown",
   "id": "cb941e6b-6e22-4003-8bbb-3bc139119680",
   "metadata": {},
   "source": [
    "## `부동산/금융`, `투자/재테크`, `파이낸스`?"
   ]
  },
  {
   "cell_type": "code",
   "execution_count": null,
   "id": "fe442e5c-973d-4947-a851-bae49fca5f5c",
   "metadata": {},
   "outputs": [],
   "source": [
    "# '부동산/금융'과 '파이낸스'가 제목이 비슷해 보이므로 합쳐도 될 것 같다.\n",
    "\n",
    "for course_title in data[data.category_title == '부동산/금융'].course_title.unique():\n",
    "    print(course_title)\n",
    "print()\n",
    "for course_title in data[data.category_title == '투자/재테크'].course_title.unique():\n",
    "    print(course_title)\n",
    "print()\n",
    "for course_title in data[data.category_title == '파이낸스'].course_title.unique():\n",
    "    print(course_title)"
   ]
  },
  {
   "cell_type": "code",
   "execution_count": null,
   "id": "d7fdb6ab-4bd9-423c-a402-108cdd596752",
   "metadata": {},
   "outputs": [],
   "source": [
    "# ['부동산/금융', '투자/재테크', '파이낸스'] 데이터 비중 비교\n",
    "# 부동산/금융 투자/재테크는 데이터가 많고 모든 시간에 분포해 있다. 현재 홈페이지에서도 확인 가능하다.\n",
    "\n",
    "plt.figure(figsize=(20,10))\n",
    "target = data[data.category_title.isin(['부동산/금융', '투자/재테크', '파이낸스'])]\n",
    "sns.histplot(target, x='completed_at', hue='category_title',\n",
    "             binwidth=1,\n",
    "             binrange=mpl.dates.date2num(pd.to_datetime(['2021-03-27', '2021-09-27'])),\n",
    "             multiple='stack',\n",
    "             #element = 'step',\n",
    "             #fill = False\n",
    "            )\n",
    "plt.xlim(pd.to_datetime(['2021-03-27', '2021-09-27']))\n",
    "plt.show()"
   ]
  },
  {
   "cell_type": "markdown",
   "id": "ce896a61-e00b-4a30-a401-41112b3638fe",
   "metadata": {},
   "source": [
    "# 연습장"
   ]
  }
 ],
 "metadata": {
  "kernelspec": {
   "display_name": "py39cuda",
   "language": "python",
   "name": "py39cuda"
  },
  "language_info": {
   "codemirror_mode": {
    "name": "ipython",
    "version": 3
   },
   "file_extension": ".py",
   "mimetype": "text/x-python",
   "name": "python",
   "nbconvert_exporter": "python",
   "pygments_lexer": "ipython3",
   "version": "3.9.7"
  },
  "toc-showtags": false
 },
 "nbformat": 4,
 "nbformat_minor": 5
}
